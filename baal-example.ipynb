{
 "cells": [
  {
   "cell_type": "code",
   "execution_count": 35,
   "metadata": {},
   "outputs": [],
   "source": [
    "from sklearn.datasets import make_classification\n",
    "\n",
    "X, y = make_classification(n_samples=100_000, n_classes=4, n_informative=10)"
   ]
  },
  {
   "cell_type": "code",
   "execution_count": 36,
   "metadata": {},
   "outputs": [
    {
     "name": "stdout",
     "output_type": "stream",
     "text": [
      "Train Accuracy ::  1.0\n",
      "Test Accuracy  ::  0.9068333333333334\n",
      " Confusion matrix  [[7082  130  211  189]\n",
      " [ 168 6798  203  295]\n",
      " [ 419  180 6604  260]\n",
      " [ 322  151  267 6721]]\n"
     ]
    }
   ],
   "source": [
    "from sklearn.ensemble import RandomForestClassifier\n",
    "from sklearn.metrics import accuracy_score, confusion_matrix\n",
    "from sklearn.model_selection import train_test_split\n",
    "\n",
    "train_x, test_x, train_y, test_y = train_test_split(X, y, train_size=0.7)\n",
    "\n",
    "clf = RandomForestClassifier()\n",
    "clf.fit(train_x, train_y)\n",
    "\n",
    "# Get metrics\n",
    "predictions = clf.predict(test_x)\n",
    "print(\"Train Accuracy :: \", accuracy_score(train_y, clf.predict(train_x)))\n",
    "print(\"Test Accuracy  :: \", accuracy_score(test_y, predictions))\n",
    "print(\" Confusion matrix \", confusion_matrix(test_y, predictions))"
   ]
  },
  {
   "cell_type": "code",
   "execution_count": 37,
   "metadata": {},
   "outputs": [
    {
     "name": "stdout",
     "output_type": "stream",
     "text": [
      "Using 100 estimators\n",
      "Uncertainty per sample\n",
      "[0.59446649 0.9595801  0.22353536 ... 0.81694421 0.93318879 0.88185129]\n",
      "Ranks\n",
      "[ 8228 11616  8784 ... 15881 17453  9975]\n"
     ]
    }
   ],
   "source": [
    "import numpy as np\n",
    "from baal.active.heuristics import BALD\n",
    "print(f\"Using {len(clf.estimators_)} estimators\")\n",
    "\n",
    "# Predict independently for all estimators.\n",
    "x = np.array(list(map(lambda e: e.predict_proba(test_x), clf.estimators_)))\n",
    "# Roll axis because BaaL expect [n_samples, n_classes, ..., n_estimations]\n",
    "x = np.rollaxis(x, 0, 3)\n",
    "print(\"Uncertainty per sample\")\n",
    "print(BALD().compute_score(x))\n",
    "\n",
    "print(\"Ranks\")\n",
    "print(BALD()(x))"
   ]
  },
  {
   "cell_type": "code",
   "execution_count": 38,
   "metadata": {},
   "outputs": [],
   "source": [
    "from baal.active.dataset import ActiveNumpyArray\n",
    "\n",
    "batch_size=100\n",
    "n_batch=10\n",
    "start_size=50\n",
    "\n",
    "dataset = ActiveNumpyArray((train_x, train_y))\n",
    "\n",
    "# We start with a 50 labelled samples.\n",
    "dataset.label_randomly(start_size)\n",
    "\n",
    "heuristic = BALD()\n",
    "\n",
    "# We will use a RandomForest in this case.\n",
    "clf = RandomForestClassifier()\n",
    "def predict(test, clf):\n",
    "    # Predict with all fitted estimators.\n",
    "    x = np.array(list(map(lambda e: e.predict_proba(test[0]), clf.estimators_)))\n",
    "\n",
    "    # Roll axis because BaaL expect [n_samples, n_classes, ..., n_estimations]\n",
    "    x = np.rollaxis(x, 0, 3)\n",
    "    return x\n",
    "\n",
    "# Start logging results\n",
    "data = []\n",
    "\n",
    "for _ in range(n_batch):\n",
    "  clf.fit(*dataset.dataset)\n",
    "  predictions = clf.predict(test_x)\n",
    "  data.append({\"batch\": len(dataset), \"score\": accuracy_score(test_y, predictions)})\n",
    "  probs = predict(dataset.pool, clf)\n",
    "  to_label = heuristic(probs)\n",
    "  if len(to_label) > 0:\n",
    "      dataset.label(to_label[: batch_size])\n",
    "  else:\n",
    "    break"
   ]
  },
  {
   "cell_type": "code",
   "execution_count": 39,
   "metadata": {},
   "outputs": [
    {
     "data": {
      "text/html": [
       "\n",
       "<div id=\"altair-viz-ee87a83d36344511afba9b38c127358c\"></div>\n",
       "<script type=\"text/javascript\">\n",
       "  var VEGA_DEBUG = (typeof VEGA_DEBUG == \"undefined\") ? {} : VEGA_DEBUG;\n",
       "  (function(spec, embedOpt){\n",
       "    let outputDiv = document.currentScript.previousElementSibling;\n",
       "    if (outputDiv.id !== \"altair-viz-ee87a83d36344511afba9b38c127358c\") {\n",
       "      outputDiv = document.getElementById(\"altair-viz-ee87a83d36344511afba9b38c127358c\");\n",
       "    }\n",
       "    const paths = {\n",
       "      \"vega\": \"https://cdn.jsdelivr.net/npm//vega@5?noext\",\n",
       "      \"vega-lib\": \"https://cdn.jsdelivr.net/npm//vega-lib?noext\",\n",
       "      \"vega-lite\": \"https://cdn.jsdelivr.net/npm//vega-lite@4.17.0?noext\",\n",
       "      \"vega-embed\": \"https://cdn.jsdelivr.net/npm//vega-embed@6?noext\",\n",
       "    };\n",
       "\n",
       "    function maybeLoadScript(lib, version) {\n",
       "      var key = `${lib.replace(\"-\", \"\")}_version`;\n",
       "      return (VEGA_DEBUG[key] == version) ?\n",
       "        Promise.resolve(paths[lib]) :\n",
       "        new Promise(function(resolve, reject) {\n",
       "          var s = document.createElement('script');\n",
       "          document.getElementsByTagName(\"head\")[0].appendChild(s);\n",
       "          s.async = true;\n",
       "          s.onload = () => {\n",
       "            VEGA_DEBUG[key] = version;\n",
       "            return resolve(paths[lib]);\n",
       "          };\n",
       "          s.onerror = () => reject(`Error loading script: ${paths[lib]}`);\n",
       "          s.src = paths[lib];\n",
       "        });\n",
       "    }\n",
       "\n",
       "    function showError(err) {\n",
       "      outputDiv.innerHTML = `<div class=\"error\" style=\"color:red;\">${err}</div>`;\n",
       "      throw err;\n",
       "    }\n",
       "\n",
       "    function displayChart(vegaEmbed) {\n",
       "      vegaEmbed(outputDiv, spec, embedOpt)\n",
       "        .catch(err => showError(`Javascript Error: ${err.message}<br>This usually means there's a typo in your chart specification. See the javascript console for the full traceback.`));\n",
       "    }\n",
       "\n",
       "    if(typeof define === \"function\" && define.amd) {\n",
       "      requirejs.config({paths});\n",
       "      require([\"vega-embed\"], displayChart, err => showError(`Error loading script: ${err.message}`));\n",
       "    } else {\n",
       "      maybeLoadScript(\"vega\", \"5\")\n",
       "        .then(() => maybeLoadScript(\"vega-lite\", \"4.17.0\"))\n",
       "        .then(() => maybeLoadScript(\"vega-embed\", \"6\"))\n",
       "        .catch(showError)\n",
       "        .then(() => displayChart(vegaEmbed));\n",
       "    }\n",
       "  })({\"config\": {\"view\": {\"continuousWidth\": 400, \"continuousHeight\": 300}}, \"data\": {\"name\": \"data-d12d22d0c962bfe73d44da7adb77b46b\"}, \"mark\": \"line\", \"encoding\": {\"x\": {\"field\": \"batch\", \"type\": \"quantitative\"}, \"y\": {\"field\": \"score\", \"type\": \"quantitative\"}}, \"height\": 250, \"selection\": {\"selector010\": {\"type\": \"interval\", \"bind\": \"scales\", \"encodings\": [\"x\", \"y\"]}}, \"width\": 600, \"$schema\": \"https://vega.github.io/schema/vega-lite/v4.17.0.json\", \"datasets\": {\"data-d12d22d0c962bfe73d44da7adb77b46b\": [{\"batch\": 50, \"score\": 0.41313333333333335}, {\"batch\": 150, \"score\": 0.5176333333333333}, {\"batch\": 250, \"score\": 0.5925}, {\"batch\": 350, \"score\": 0.6412}, {\"batch\": 450, \"score\": 0.6775}, {\"batch\": 550, \"score\": 0.7144333333333334}, {\"batch\": 650, \"score\": 0.7374}, {\"batch\": 750, \"score\": 0.7442333333333333}, {\"batch\": 850, \"score\": 0.7506666666666667}, {\"batch\": 950, \"score\": 0.7718333333333334}]}}, {\"mode\": \"vega-lite\"});\n",
       "</script>"
      ],
      "text/plain": [
       "alt.Chart(...)"
      ]
     },
     "execution_count": 39,
     "metadata": {},
     "output_type": "execute_result"
    }
   ],
   "source": [
    "import pandas as pd\n",
    "import altair as alt\n",
    "\n",
    "pltr = pd.DataFrame(data)\n",
    "\n",
    "(alt.Chart(pltr)\n",
    "  .mark_line()\n",
    "  .encode(x='batch:Q', y='score:Q')\n",
    "  .properties(width=600, height=250)\n",
    "  .interactive())"
   ]
  }
 ],
 "metadata": {
  "interpreter": {
   "hash": "0330d17d62722f7a71f069ec046c98c05b0c0b7f8eb9f23ea3456dab6823ddf6"
  },
  "kernelspec": {
   "display_name": "Python 3.9.10 ('venv': venv)",
   "language": "python",
   "name": "python3"
  },
  "language_info": {
   "codemirror_mode": {
    "name": "ipython",
    "version": 3
   },
   "file_extension": ".py",
   "mimetype": "text/x-python",
   "name": "python",
   "nbconvert_exporter": "python",
   "pygments_lexer": "ipython3",
   "version": "3.9.10"
  },
  "orig_nbformat": 4
 },
 "nbformat": 4,
 "nbformat_minor": 2
}
